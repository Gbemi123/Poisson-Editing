{
 "cells": [
  {
   "cell_type": "code",
   "execution_count": null,
   "metadata": {},
   "outputs": [],
   "source": [
    "import cv2 \n",
    "import numpy as np \n",
    "import matplotlib.pyplot as plt\n",
    "import scipy.sparse as SC\n",
    "import scipy.sparse.linalg as linalg\n",
    "from PixelLocation import ROI_points\n",
    "from PixelLocation import pixel_location\n",
    "from PixelLocation import surrounding_pixels\n",
    "from PixelLocation import in_omega\n",
    "from sparse_matrix import sparse_matrix\n",
    "from Laplacian_of_ROI import laplace\n",
    "from Selecting_ROI import mousepoints\n",
    "from Selecting_ROI import get_omega\n",
    "from create_mask import create_mask\n"
   ]
  },
  {
   "cell_type": "code",
   "execution_count": null,
   "metadata": {},
   "outputs": [],
   "source": [
    "points=[] # holds the values of the selected coordinates\n",
    "def mousepoints(events,x, y,flags,parameters):\n",
    "    global points\n",
    "    \n",
    "    if events==cv2.EVENT_LBUTTONDOWN: \n",
    "        points.append((x,y))\n",
    "\n",
    "    return\n",
    "\n",
    "def get_omega(im):\n",
    "    global points\n",
    "\n",
    "    cv2.imshow(\"Please Click on image to get ROI points\",im)\n",
    "    cv2.setMouseCallback(\"Please Click on image to get ROI points\", mousepoints)\n",
    "    cv2.waitKey(0)\n",
    "\n",
    "\n",
    "    photo = im.copy() # making a copy of our image for visulalisation\n",
    "    new_img=cv2.polylines(photo, np.int32([points]), isClosed=True, color=(0,0,255),thickness=4) # draw a polygon of our region of interest\n",
    "\n",
    "    return points, photo, new_img"
   ]
  },
  {
   "cell_type": "code",
   "execution_count": null,
   "metadata": {},
   "outputs": [],
   "source": [
    "#Click on the image to generate the mask\n",
    "\n",
    "source_path=r\"inputs\\1.filling\\hope.jpg\" #https://www.joom.com/en/products/5bc6eb7c28fc710198a726a1\n",
    "target_path=r\"inputs\\1.filling\\Me.jpg\" #https://unsplash.com/images/nature/space\n",
    "\n",
    "src= cv2.imread(source_path,cv2.IMREAD_GRAYSCALE)\n",
    "target=cv2.imread(target_path,cv2.IMREAD_GRAYSCALE)\n",
    "\n",
    "# resizing the images because the larger the images the more time it takes for the A matrix to computed\n",
    "src= cv2.resize(src,(200,150))\n",
    "target=cv2.resize(target,(200,150))\n",
    "\n",
    "points.clear()#clearing the list to put new values\n",
    "\n",
    "boundary=get_omega(target)\n",
    "mask=create_mask(target,boundary[0])\n",
    "\n",
    "cv2.imshow(\"src mask\",mask[0])# show created mask\n",
    "cv2.waitKey(0)\n",
    "cv2.destroyAllWindows()\n",
    "\n",
    "cv2.imwrite(r\"inputs\\1.filling\\fill mask.jpg\", mask[0]) # Save mask into same path as src and target\n"
   ]
  },
  {
   "cell_type": "code",
   "execution_count": null,
   "metadata": {},
   "outputs": [],
   "source": [
    "def fill(src,target,mask):\n",
    "\n",
    "    Indicies=ROI_points(mask)\n",
    "    A_Mat=sparse_matrix(Indicies)\n",
    "    M= len(Indicies)\n",
    "    \n",
    "    B_Mat= np.zeros(M) # This is the B matrix\n",
    "    \n",
    "    for i, index in enumerate(Indicies):\n",
    "        \n",
    "        B_Mat[i]=laplace(src,index)\n",
    "\n",
    "        if pixel_location(index,mask): #checking if pixel is on the boundary\n",
    "            for pixels in surrounding_pixels(index): #the surrounding pixels\n",
    "                if not np.any(in_omega(pixels,mask)): # pixels npt in ROI\n",
    "                    B_Mat[i] += target[pixels]\n",
    "\n",
    "    x=linalg.cg(A_Mat,B_Mat) #solve for x to get new pixels\n",
    "    new_image=np.copy(target).astype(int)\n",
    "    for i, index in enumerate(Indicies):\n",
    "        new_image[index]=x[0][i]\n",
    "\n",
    "    return new_image\n",
    "\n",
    "\n",
    "mask=cv2.imread(r\"inputs\\1.filling\\fill mask.jpg\")\n",
    "if __name__ == '__main__':\n",
    "    mask=mask.astype(np.float64)/255\n",
    "    mask[mask !=1] =0\n",
    "\n",
    "    new_image=[fill(src,target,mask)]\n",
    "    new=cv2.merge(new_image)\n",
    "    new = new.astype(np.uint8)\n",
    "\n",
    "    new= cv2.imwrite(r\"Results\\1.filling\\output.jpg\", new)\n",
    "\n"
   ]
  }
 ],
 "metadata": {
  "interpreter": {
   "hash": "ad7c4e1bc633926d4283800f93bdccc17f091615fe1cc629b64b60f2c9cdcaf2"
  },
  "kernelspec": {
   "display_name": "Python 3.8.8 ('base')",
   "language": "python",
   "name": "python3"
  },
  "language_info": {
   "name": "python",
   "version": "3.8.8"
  },
  "orig_nbformat": 4
 },
 "nbformat": 4,
 "nbformat_minor": 2
}
