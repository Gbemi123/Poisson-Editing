{
 "cells": [
  {
   "cell_type": "code",
   "execution_count": null,
   "metadata": {},
   "outputs": [],
   "source": [
    "import cv2 \n",
    "import numpy as np \n",
    "import matplotlib.pyplot as plt\n",
    "from PIL import Image\n",
    "from cv2 import imshow\n",
    "import scipy.sparse as SC\n",
    "import scipy.sparse.linalg as linalg"
   ]
  },
  {
   "cell_type": "code",
   "execution_count": null,
   "metadata": {},
   "outputs": [],
   "source": [
    "#1. Selecting cooridinates on our images\n",
    "\n",
    " # holds the values of the selected coordinates\n",
    "points=[]\n",
    "def mousepoints(events,x, y,flags,parameters):\n",
    "    global points\n",
    "    \n",
    "    if events==cv2.EVENT_LBUTTONDOWN: \n",
    "        points.append((x,y))\n",
    "        \n",
    "    return\n",
    "\n",
    "def get_omega(im):\n",
    "    global points\n",
    "\n",
    "    cv2.imshow(\"Please Click on image to get ROI points\",im)\n",
    "    cv2.setMouseCallback(\"Please Click on image to get ROI points\", mousepoints)\n",
    "    cv2.waitKey(0)\n",
    "\n",
    "\n",
    "    \n",
    "    # making a copy of our image for visulalisation\n",
    "    photo = im.copy() \n",
    "    # draw a polygon of our region of interest\n",
    "    new_img=cv2.polylines(photo, np.int32([points]), isClosed=True, color=(0,0,255),thickness=4) \n",
    "    \n",
    "    return points, photo, new_img\n"
   ]
  }
 ],
 "metadata": {
  "interpreter": {
   "hash": "ad7c4e1bc633926d4283800f93bdccc17f091615fe1cc629b64b60f2c9cdcaf2"
  },
  "kernelspec": {
   "display_name": "Python 3.8.8 ('base')",
   "language": "python",
   "name": "python3"
  },
  "language_info": {
   "name": "python",
   "version": "3.8.8"
  },
  "orig_nbformat": 4
 },
 "nbformat": 4,
 "nbformat_minor": 2
}
