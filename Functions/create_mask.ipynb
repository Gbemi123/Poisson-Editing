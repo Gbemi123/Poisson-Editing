{
 "cells": [
  {
   "cell_type": "code",
   "execution_count": null,
   "metadata": {},
   "outputs": [],
   "source": [
    "import cv2 \n",
    "import numpy as np \n",
    "import matplotlib.pyplot as plt\n"
   ]
  },
  {
   "cell_type": "code",
   "execution_count": null,
   "metadata": {},
   "outputs": [],
   "source": [
    "#2. funtcion to create mask of ROI \n",
    "def create_mask(Image, points):\n",
    "\n",
    "    ph=Image.shape\n",
    "    mask=np.zeros((ph[0],ph[1]), dtype=\"uint8\")\n",
    "\n",
    "    cv2.fillConvexPoly(mask,np.int32([points]),255)\n",
    "\n",
    "    cop=Image.copy()\n",
    "    masked_image= cv2.fillConvexPoly(cop,np.int32([points]),0)\n",
    "\n",
    "    return mask,masked_image"
   ]
  }
 ],
 "metadata": {
  "interpreter": {
   "hash": "ad7c4e1bc633926d4283800f93bdccc17f091615fe1cc629b64b60f2c9cdcaf2"
  },
  "kernelspec": {
   "display_name": "Python 3.8.8 ('base')",
   "language": "python",
   "name": "python3"
  },
  "language_info": {
   "name": "python",
   "version": "3.8.8"
  },
  "orig_nbformat": 4
 },
 "nbformat": 4,
 "nbformat_minor": 2
}
