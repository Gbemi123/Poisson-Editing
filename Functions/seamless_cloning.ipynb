{
 "cells": [
  {
   "cell_type": "code",
   "execution_count": null,
   "metadata": {},
   "outputs": [],
   "source": [
    "import cv2 \n",
    "import numpy as np \n",
    "import matplotlib.pyplot as plt\n",
    "import scipy.sparse as SC\n",
    "import scipy.sparse.linalg as linalg\n",
    "from PixelLocation import ROI_points\n",
    "from PixelLocation import pixel_location\n",
    "from PixelLocation import surrounding_pixels\n",
    "from PixelLocation import in_omega\n",
    "from sparse_matrix import sparse_matrix\n",
    "from Laplacian_of_ROI import laplace\n"
   ]
  },
  {
   "cell_type": "code",
   "execution_count": null,
   "metadata": {},
   "outputs": [],
   "source": [
    "#Performing the poisson method with all the fuctions together\n",
    "def seamless_cloning(src,target,mask):\n",
    "\n",
    "    Indicies=ROI_points(mask)\n",
    "    A_Mat=sparse_matrix(Indicies)\n",
    "    M= len(Indicies)\n",
    "    \n",
    "    B_Mat= np.zeros(M) # This is the B matrix\n",
    "    \n",
    "    for i, index in enumerate(Indicies):\n",
    "        \n",
    "        B_Mat[i]=laplace(src,index)\n",
    "\n",
    "        if pixel_location(index,mask): #checking if pixel is on the boundary\n",
    "            for pixels in surrounding_pixels(index): #the surrounding pixels\n",
    "                if not np.any(in_omega(pixels,mask)): # pixels npt in ROI\n",
    "                    B_Mat[i] += target[pixels]\n",
    "\n",
    "    x=linalg.cg(A_Mat,B_Mat) #solve for x to get new pixels\n",
    "    new_image=np.copy(target).astype(int)\n",
    "    for i, index in enumerate(Indicies):\n",
    "        new_image[index]=x[0][i]\n",
    "\n",
    "    return new_image\n",
    "\n"
   ]
  }
 ],
 "metadata": {
  "interpreter": {
   "hash": "ad7c4e1bc633926d4283800f93bdccc17f091615fe1cc629b64b60f2c9cdcaf2"
  },
  "kernelspec": {
   "display_name": "Python 3.8.8 ('base')",
   "language": "python",
   "name": "python3"
  },
  "language_info": {
   "name": "python",
   "version": "3.8.8"
  },
  "orig_nbformat": 4
 },
 "nbformat": 4,
 "nbformat_minor": 2
}
